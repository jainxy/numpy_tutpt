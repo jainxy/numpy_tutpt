{
 "cells": [
  {
   "cell_type": "markdown",
   "metadata": {},
   "source": [
    "## Indexing and Slicing\n",
    "__(https://www.tutorialspoint.com/numpy/numpy_indexing_and_slicing.htm)__\n",
    "\n",
    "- We can access and modify the contents/ements of ndarray objects, just like python's built-in container object, via indexing and slicing.\n",
    "- ndarray objects follow zero-based index.\n",
    "- 3 types of indexing methods ->\n",
    "    - Field access\n",
    "    - base slicing\n",
    "    - advanced indexing"
   ]
  },
  {
   "cell_type": "markdown",
   "metadata": {},
   "source": [
    "### Basic python slicing\n",
    "slice a given sequence (string, bytes, tuple, list or range) or any object which supports sequence protocol (implements ```__getitem__()``` and ```__len__()``` methods).\n",
    "1. slicing operator -> __```[start:stop:step]```__\n",
    "\n",
    "    It gives list of indices, beginning from _start_, with limit at _stop_, incrementing in _step_.\n",
    "    -ve step means traversal in reverse direction.\n",
    "\n",
    "2. __slice()__ function -> creates a __slice object__ represnting set of indices, specified by __```range(start=0,stop,step=1)```__. pass it as array index to extract a part of array."
   ]
  },
  {
   "cell_type": "code",
   "execution_count": 2,
   "metadata": {},
   "outputs": [
    {
     "name": "stdout",
     "output_type": "stream",
     "text": [
      "[30 50 70]\n"
     ]
    }
   ],
   "source": [
    "import numpy as np\n",
    "ndarr = np.array([x*10 for x in range(2,10)])\n",
    "ndarr_s = ndarr[slice(1,6,2)]\n",
    "print(ndarr_s)"
   ]
  },
  {
   "cell_type": "code",
   "execution_count": 4,
   "metadata": {
    "collapsed": true
   },
   "outputs": [
    {
     "name": "stdout",
     "output_type": "stream",
     "text": [
      "[30 50 70]\n",
      "[30 40 50 60 70 80 90]\n",
      "[20 30 40]\n",
      "[30 40]\n"
     ]
    }
   ],
   "source": [
    "# direct slicing of ndarray\n",
    "ndarr = np.array([x*10 for x in range(2,10)])\n",
    "print(ndarr[1:6:2])\n",
    "print(ndarr[1:])\n",
    "print(ndarr[:3])   # stop index is not included\n",
    "print(ndarr[1:3])  # stop index is not included"
   ]
  },
  {
   "cell_type": "code",
   "execution_count": 23,
   "metadata": {
    "collapsed": true
   },
   "outputs": [
    {
     "name": "stdout",
     "output_type": "stream",
     "text": [
      "[[ 5  6  7]\n",
      " [ 9 10 11]\n",
      " [13 14 15]]\n",
      "[[ 2  3]\n",
      " [ 6  7]\n",
      " [10 11]\n",
      " [14 15]]\n",
      "[[ 5  6  7]\n",
      " [ 9 10 11]]\n",
      "[[ 1  2  3]\n",
      " [ 5  6  7]\n",
      " [ 9 10 11]\n",
      " [13 14 15]]\n"
     ]
    }
   ],
   "source": [
    "# Multi-dim array slicing\n",
    "ndarray2 = np.array([[ 1,  2,  3,  4],\n",
    "                       [ 5,  6,  7,  8],\n",
    "                       [ 9, 10, 11, 12],\n",
    "                       [13, 14, 15, 16]])\n",
    "# we slice along both the dimentions\n",
    "print(ndarray2[1:,:3])\n",
    "print(ndarray2[:,1:3])\n",
    "print(ndarray2[slice(1,-1),slice(-1)])\n",
    "print(ndarray2[... , slice(-1)])"
   ]
  },
  {
   "cell_type": "markdown",
   "metadata": {},
   "source": [
    "ellipsis (...) can be used to make a selection tuple of same length as # of dim of array. for any axis, ... means :, i.e. all the indices in that axis."
   ]
  },
  {
   "cell_type": "code",
   "execution_count": 35,
   "metadata": {
    "collapsed": true
   },
   "outputs": [
    {
     "name": "stdout",
     "output_type": "stream",
     "text": [
      "[[1 2 3]\n",
      " [3 4 5]\n",
      " [4 7 6]]\n",
      "[2 4 7]\n",
      "[3 4 5]\n"
     ]
    }
   ],
   "source": [
    "ndarray2 = np.array([[1,2,3],[3,4,5],[4,7,6]])\n",
    "print(ndarray2)\n",
    "print(ndarray2[...,1]) # print 2nd column only\n",
    "print(ndarray2[1,...]) # print 2nd row only"
   ]
  },
  {
   "cell_type": "markdown",
   "metadata": {},
   "source": [
    "## Advanced indexing\n",
    "__(https://www.tutorialspoint.com/numpy/numpy_advanced_indexing.htm)__\n",
    " - We can make selection from ndarray object.\n",
    " - Two types of advanced indexing -> __Integar__ and __Boolean__\n",
    " \n",
    "1. __Integer Indexing__ -> Select any arbitrary item in an array based on its Ndimentional index. Each integer array represent indexes in that dimention.\n",
    "2. __Boolean Indexing__ -> This type of Advanced indexing is used when we need to obtain resultant object as a result of Boolean operations. Like boolean operators (>, <, etc)"
   ]
  },
  {
   "cell_type": "code",
   "execution_count": 37,
   "metadata": {},
   "outputs": [],
   "source": [
    "import numpy as np"
   ]
  },
  {
   "cell_type": "code",
   "execution_count": 40,
   "metadata": {
    "collapsed": true,
    "scrolled": true
   },
   "outputs": [
    {
     "name": "stdout",
     "output_type": "stream",
     "text": [
      "[1 4 5]\n",
      "[[1 2 1]\n",
      " [3 4 3]\n",
      " [5 6 5]]\n"
     ]
    }
   ],
   "source": [
    "ndarray2 = np.array([[1, 2], [3, 4], [5, 6]])\n",
    "print(ndarray2[[0,1,2],[0,1,0]])\n",
    "print(ndarray2[:,[0,1,0]])  # combination of basic-indexing with advanced-indexing(for column)"
   ]
  },
  {
   "cell_type": "code",
   "execution_count": 41,
   "metadata": {
    "collapsed": true
   },
   "outputs": [
    {
     "name": "stdout",
     "output_type": "stream",
     "text": [
      "[[ 0  2]\n",
      " [ 9 11]]\n"
     ]
    }
   ],
   "source": [
    "# select corners from 4x3 matrices as 2D ndarray\n",
    "ndarray2 = np.array([[ 0,  1,  2],[ 3,  4,  5],[ 6,  7,  8],[ 9, 10, 11]])\n",
    "rows = np.array([[0,0],[3,3]])\n",
    "cols = np.array([[0,2],[0,2]])\n",
    "print(ndarray2[rows,cols])"
   ]
  },
  {
   "cell_type": "code",
   "execution_count": 42,
   "metadata": {},
   "outputs": [
    {
     "name": "stdout",
     "output_type": "stream",
     "text": [
      "[ 6  7  8  9 10 11]\n"
     ]
    }
   ],
   "source": [
    "# Boolean Indexing\n",
    "ndarray2 = np.array([[ 0,  1,  2],[ 3,  4,  5],[ 6,  7,  8],[ 9, 10, 11]])\n",
    "ndarray_bool = ndarray2[ndarray2>5]\n",
    "print(ndarray_bool)"
   ]
  },
  {
   "cell_type": "code",
   "execution_count": 51,
   "metadata": {},
   "outputs": [
    {
     "name": "stdout",
     "output_type": "stream",
     "text": [
      "[1. 2. 3. 4. 5.]\n",
      "[2. +6.j 3.5+5.j]\n"
     ]
    }
   ],
   "source": [
    "# np.nan ; np.isnan() ; ~ operator\n",
    "a = np.array([np.nan, 1,2,np.nan,3,4,5]) \n",
    "print(a[~np.isnan(a)])\n",
    "\n",
    "# np.iscomplex()\n",
    "a = np.array([1, 2+6j, 5, 3.5+5j]) \n",
    "print(a[np.iscomplex(a)])"
   ]
  },
  {
   "cell_type": "markdown",
   "metadata": {},
   "source": [
    "## Broadcasting\n",
    "__(https://www.tutorialspoint.com/numpy/numpy_broadcasting.htm)__\n",
    " - broadcasting means to bring ndarrays of different shapes/dimentions to common shape during arithmetic operations.\n",
    " - Arithmetic operations on arrays are performed on the corresponding elements. If dimensions of 2 arrays are not similar, smaller array is broadcasted to the size of the larger array, to get similar shape.\n",
    " - __Rules for broadcasting__ to be possible :-\n",
    "     1. Array with smaller __ndim__ than the other is __prepended__ with __'1'__ in its shape.\n",
    "     2. For each dim, output size is maximum of input sizes.\n",
    "     3. An input can be used in Arithmetic operation, if its size in all dims is either same as output size or '1'.\n",
    "     4. If an input has a dim size of 1, the 1st data entry in that dim is used for all the calculation along that dim."
   ]
  },
  {
   "cell_type": "code",
   "execution_count": 52,
   "metadata": {},
   "outputs": [],
   "source": [
    "import numpy as np"
   ]
  },
  {
   "cell_type": "code",
   "execution_count": 53,
   "metadata": {},
   "outputs": [
    {
     "name": "stdout",
     "output_type": "stream",
     "text": [
      "[[ 1.  2.  3.]\n",
      " [11. 12. 13.]\n",
      " [21. 22. 23.]\n",
      " [31. 32. 33.]]\n"
     ]
    }
   ],
   "source": [
    "a = np.array([[0.0,0.0,0.0],[10.0,10.0,10.0],[20.0,20.0,20.0],[30.0,30.0,30.0]]) \n",
    "b = np.array([1.0,2.0,3.0]) # it will be broadcated to match shape of a\n",
    "print(a+b)"
   ]
  },
  {
   "cell_type": "markdown",
   "metadata": {},
   "source": [
    "## Iterating over array\n",
    "__(https://www.tutorialspoint.com/numpy/numpy_iterating_over_array.htm)__\n",
    " - Numpy provides an iterator object - __numpy.nditer__\n",
    " - Its an efficient multi-dim array, to visit each element of an array using Python's iterator interface.\n",
    " - The order of iteration is chosen to match the memory layout of an array\n",
    " - We can force __nditer__ object to follow a specific order by using parameter _'order'_ which can take _'F'/'C'/'A'_\n",
    " - *op_flags* parameter which is list of list of flags, can be used for setting attribute for iterator on arrays.\n",
    " - If 2 arrays are broadcastible, a combined __nditer__ object can be created to iterate upon them simultaneously."
   ]
  },
  {
   "cell_type": "code",
   "execution_count": 63,
   "metadata": {},
   "outputs": [],
   "source": [
    "import numpy as np"
   ]
  },
  {
   "cell_type": "code",
   "execution_count": 67,
   "metadata": {
    "collapsed": true
   },
   "outputs": [
    {
     "name": "stdout",
     "output_type": "stream",
     "text": [
      "[[ 0  5 10 15]\n",
      " [20 25 30 35]\n",
      " [40 45 50 55]]\n",
      "0 5 10 15 20 25 30 35 40 45 50 55 "
     ]
    }
   ],
   "source": [
    "arr3x4 = np.arange(0,60,5).reshape(3,4)\n",
    "print(arr3x4)\n",
    "\n",
    "for val in np.nditer(arr3x4):\n",
    "    print(val,end=' ')"
   ]
  },
  {
   "cell_type": "code",
   "execution_count": 68,
   "metadata": {
    "collapsed": true
   },
   "outputs": [
    {
     "name": "stdout",
     "output_type": "stream",
     "text": [
      "[[ 0 20 40]\n",
      " [ 5 25 45]\n",
      " [10 30 50]\n",
      " [15 35 55]]\n",
      "0 5 10 15 20 25 30 35 40 45 50 55 "
     ]
    }
   ],
   "source": [
    "# order of teration is as per memory layout\n",
    "arr3x4 = np.arange(0,60,5).reshape(3,4)\n",
    "arr3x4_T = arr3x4.T\n",
    "print(arr3x4_T)\n",
    "\n",
    "for val in np.nditer(arr3x4_T):\n",
    "    print(val,end=' ')"
   ]
  },
  {
   "cell_type": "code",
   "execution_count": 70,
   "metadata": {
    "collapsed": true
   },
   "outputs": [
    {
     "name": "stdout",
     "output_type": "stream",
     "text": [
      "[[ 0  5 10 15]\n",
      " [20 25 30 35]\n",
      " [40 45 50 55]]\n",
      "0 20 40 5 25 45 10 30 50 15 35 55 "
     ]
    }
   ],
   "source": [
    "# Elements stored in F-style order, then iterator moves in that order.\n",
    "arr3x4 = np.arange(0,60,5).reshape(3,4)\n",
    "arr3x4_F = arr3x4.copy(order='F')\n",
    "print(arr3x4_F)\n",
    "\n",
    "for val in np.nditer(arr3x4_F):\n",
    "    print(val,end=' ')"
   ]
  },
  {
   "cell_type": "code",
   "execution_count": 82,
   "metadata": {
    "collapsed": true
   },
   "outputs": [
    {
     "name": "stdout",
     "output_type": "stream",
     "text": [
      "[[ 0  5 10 15]\n",
      " [20 25 30 35]\n",
      " [40 45 50 55]]\n",
      "[[  0  10  20  30]\n",
      " [ 40  50  60  70]\n",
      " [ 80  90 100 110]]\n",
      "<class 'numpy.ndarray'>\n"
     ]
    }
   ],
   "source": [
    "# set op_flags to mark array as readwrite while iterating over it.\n",
    "arr3x4 = np.arange(0,60,5).reshape(3,4)\n",
    "print(arr3x4)\n",
    "\n",
    "for val in np.nditer(arr3x4,op_flags=['writeonly']):\n",
    "    val[...] = 2*val\n",
    "print(arr3x4)\n",
    "print(type(val))"
   ]
  },
  {
   "cell_type": "code",
   "execution_count": 90,
   "metadata": {
    "collapsed": true
   },
   "outputs": [
    {
     "name": "stdout",
     "output_type": "stream",
     "text": [
      "[[ 0  5 10 15]\n",
      " [20 25 30 35]\n",
      " [40 45 50 55]]\n",
      "[[1]\n",
      " [2]\n",
      " [3]]\n",
      "0-1 5-1 10-1 15-1 20-2 25-2 30-2 35-2 40-3 45-3 50-3 55-3 "
     ]
    }
   ],
   "source": [
    "arr3x4 = np.arange(0,60,5).reshape(3,4)\n",
    "arr3x1 = np.array([1,2,3]).reshape(3,1)\n",
    "print(arr3x4)\n",
    "print(arr3x1)\n",
    "\n",
    "for val1,val2 in np.nditer([arr3x4,arr3x1]):\n",
    "    print(\"{}-{}\".format(val1,val2), end=' ')"
   ]
  },
  {
   "cell_type": "markdown",
   "metadata": {},
   "source": []
  }
 ],
 "metadata": {
  "kernelspec": {
   "display_name": "Python 3",
   "language": "python",
   "name": "python3"
  },
  "language_info": {
   "codemirror_mode": {
    "name": "ipython",
    "version": 3
   },
   "file_extension": ".py",
   "mimetype": "text/x-python",
   "name": "python",
   "nbconvert_exporter": "python",
   "pygments_lexer": "ipython3",
   "version": "3.7.0"
  }
 },
 "nbformat": 4,
 "nbformat_minor": 2
}
