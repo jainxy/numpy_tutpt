{
  "nbformat": 4,
  "nbformat_minor": 0,
  "metadata": {
    "colab": {
      "name": "Array Manipulation.ipynb",
      "version": "0.3.2",
      "provenance": [],
      "include_colab_link": true
    },
    "kernelspec": {
      "display_name": "Python 3",
      "language": "python",
      "name": "python3"
    }
  },
  "cells": [
    {
      "cell_type": "markdown",
      "metadata": {
        "id": "view-in-github",
        "colab_type": "text"
      },
      "source": [
        "<a href=\"https://colab.research.google.com/github/jainxy/numpy_tutpt/blob/master/Array%20Manipulation_colab.ipynb\" target=\"_parent\"><img src=\"https://colab.research.google.com/assets/colab-badge.svg\" alt=\"Open In Colab\"/></a>"
      ]
    },
    {
      "metadata": {
        "id": "umnNl1IWl6tQ",
        "colab_type": "text"
      },
      "cell_type": "markdown",
      "source": [
        "## Array Manipulation\n",
        "__(https://www.tutorialspoint.com/numpy/numpy_array_manipulation.htm)__\n",
        "Numpy package provides several routines for manipulating elements in ndarray objects."
      ]
    },
    {
      "metadata": {
        "id": "3YStE3Pjl6th",
        "colab_type": "text"
      },
      "cell_type": "markdown",
      "source": [
        "### Changing shape\n",
        "1. __reshape()__ -> __(https://www.tutorialspoint.com/numpy/numpy_reshape.htm)__ \n",
        "Gives new shape to an array w/o tweaking its data\n",
        "1. __flat__ -> __(https://www.tutorialspoint.com/numpy/numpy_ndarray_flat.htm)__\n",
        "Returna a 1-D iterator over the array. similar to python's built-in iterator.\n",
        "1. __flatten()__ -> __(https://www.tutorialspoint.com/numpy/numpy_ndarray_flatten.htm)__\n",
        "returns __copy__ of an array, collapsed into 1-D.\n",
        "1. __ravel()__ -> __(https://www.tutorialspoint.com/numpy/numpy_ndarray_ravel.htm)__\n",
        "returns a flattened 1-D array. A copy is made only if needed. "
      ]
    },
    {
      "metadata": {
        "id": "mA1LqLFUl6tn",
        "colab_type": "code",
        "colab": {}
      },
      "cell_type": "code",
      "source": [
        "import numpy as np"
      ],
      "execution_count": 0,
      "outputs": []
    },
    {
      "metadata": {
        "id": "bPHFHeSJl6t3",
        "colab_type": "code",
        "colab": {},
        "outputId": "d26fc17c-35da-4771-ce81-aab14f541a21"
      },
      "cell_type": "code",
      "source": [
        "# reshape() and flat\n",
        "a = np.arange(8).reshape(2,4) \n",
        "itr = a.flat\n",
        "print(itr[5])  # Returns element at index 5 in flattened array."
      ],
      "execution_count": 0,
      "outputs": [
        {
          "output_type": "stream",
          "text": [
            "5\n"
          ],
          "name": "stdout"
        }
      ]
    },
    {
      "metadata": {
        "id": "Rzi_qVDYl6uT",
        "colab_type": "code",
        "colab": {},
        "outputId": "d6ffb455-fa2e-44e6-8b2a-3b9e9132b459"
      },
      "cell_type": "code",
      "source": [
        "# flatten()\n",
        "print(\"ID of original array - {}\".format(id(a)))\n",
        "\n",
        "a_flatten_C = a.flatten(order='C')\n",
        "print(\"ID of Flattened row-major array - {}\".format(id(a_flatten_C)))\n",
        "print(a_flatten_C)\n",
        "\n",
        "a_flatten_F = a.flatten(order='C')\n",
        "print(\"ID of Flattened col-major array - {}\".format(id(a_flatten_F)))\n",
        "print(a_flatten_F)"
      ],
      "execution_count": 0,
      "outputs": [
        {
          "output_type": "stream",
          "text": [
            "ID of original array - 95528000\n",
            "ID of Flattened row-major array - 95530880\n",
            "[0 1 2 3 4 5 6 7]\n",
            "ID of Flattened col-major array - 95530400\n",
            "[0 1 2 3 4 5 6 7]\n"
          ],
          "name": "stdout"
        }
      ]
    },
    {
      "metadata": {
        "id": "SfyFXyQIl6uc",
        "colab_type": "code",
        "colab": {},
        "outputId": "d0f32bb9-d541-4baf-8045-65acd9dd6709"
      },
      "cell_type": "code",
      "source": [
        "# ravel()\n",
        "print(\"ID of original array - {}\".format(id(a)))\n",
        "\n",
        "a_ravel_C = a.ravel(order='C')\n",
        "print(\"ID of Flattened row-major array - {}\".format(id(a_ravel_C)))\n",
        "print(a_ravel_C)\n",
        "\n",
        "a_ravel_F = a.ravel(order='C')\n",
        "print(\"ID of Flattened col-major array - {}\".format(id(a_ravel_F)))\n",
        "print(a_ravel_F)"
      ],
      "execution_count": 0,
      "outputs": [
        {
          "output_type": "stream",
          "text": [
            "ID of original array - 95528000\n",
            "ID of Flattened row-major array - 95552096\n",
            "[0 1 2 3 4 5 6 7]\n",
            "ID of Flattened col-major array - 95552496\n",
            "[0 1 2 3 4 5 6 7]\n"
          ],
          "name": "stdout"
        }
      ]
    },
    {
      "metadata": {
        "id": "KwAfH0uxl6um",
        "colab_type": "text"
      },
      "cell_type": "markdown",
      "source": [
        "### Transpose Operations\n",
        "1. __transpose()__ -> __(https://www.tutorialspoint.com/numpy/numpy_transpose.htm)__ \n",
        "Permutes the dimension of the given array. Returns a __view__ wherever possible.\n",
        "1. __ndarray.T__ -> __(https://www.tutorialspoint.com/numpy/numpy_ndarray_t.htm)__\n",
        "Same as transpose()\n",
        "1. __rollaxis()__ -> __(https://www.tutorialspoint.com/numpy/numpy_rollaxis.htm)__\n",
        "function rolls the specified axis backwards, until it lies in a specified position. The function takes three parameters.\n",
        "1. __swapaxes()__ -> __(https://www.tutorialspoint.com/numpy/numpy_swapaxes.htm)__\n",
        "interchanges 2 axes of an array. Returns a __view__ of swapped array."
      ]
    },
    {
      "metadata": {
        "id": "5Wxj0JJhl6up",
        "colab_type": "code",
        "colab": {}
      },
      "cell_type": "code",
      "source": [
        "import numpy as np"
      ],
      "execution_count": 0,
      "outputs": []
    },
    {
      "metadata": {
        "id": "RgLidHUyl6uv",
        "colab_type": "code",
        "colab": {},
        "outputId": "f21a33e1-f36d-4eb9-f270-ab9a1ba4355b"
      },
      "cell_type": "code",
      "source": [
        "# transpose(axes) -> axes: list of ints corresp to dims. By default, dims are reversed.\n",
        "# reshape() and flat\n",
        "a = np.arange(8).reshape(2,4) \n",
        "\n",
        "print(\"ID of original array - {}\".format(id(a)))\n",
        "print(\"Shape - {}\".format(a.shape))\n",
        "\n",
        "a_transpose = a.transpose()\n",
        "print(\"ID of transposed array - {}\".format(id(a_transpose)))\n",
        "print(\"Shape - {}\".format(a_transpose.shape))\n",
        "print(a_transpose)\n",
        "\n",
        "a_transpose_2 = a.T\n",
        "print(\"ID of transposed array - {}\".format(id(a_transpose_2)))\n",
        "print(\"Shape - {}\".format(a_transpose_2.shape))\n",
        "print(a_transpose_2)"
      ],
      "execution_count": 0,
      "outputs": [
        {
          "output_type": "stream",
          "text": [
            "ID of original array - 93149984\n",
            "Shape - (2, 4)\n",
            "ID of transposed array - 95555136\n",
            "Shape - (4, 2)\n",
            "[[0 4]\n",
            " [1 5]\n",
            " [2 6]\n",
            " [3 7]]\n",
            "ID of transposed array - 95554816\n",
            "Shape - (4, 2)\n",
            "[[0 4]\n",
            " [1 5]\n",
            " [2 6]\n",
            " [3 7]]\n"
          ],
          "name": "stdout"
        }
      ]
    },
    {
      "metadata": {
        "id": "oFVb7wOJl6u8",
        "colab_type": "code",
        "colab": {}
      },
      "cell_type": "code",
      "source": [
        "# TBD\n",
        "# rollaxis(axis, start) -> axis: Axis to roll backwards; start: "
      ],
      "execution_count": 0,
      "outputs": []
    },
    {
      "metadata": {
        "id": "tIdumDwUl6vF",
        "colab_type": "code",
        "colab": {},
        "outputId": "77890d3e-bdca-426e-eabc-e5a8ee0524a7"
      },
      "cell_type": "code",
      "source": [
        "# swapaxes(axis1, axis2) -> Interchanges 2 axes\n",
        "\n",
        "a = np.arange(8).reshape(2,2,2) \n",
        "print(\"ID of original array - {}\".format(id(a)))\n",
        "print(\"Original array - \\n{}\".format(a))\n",
        "\n",
        "a_swapaxes = a.swapaxes(0,1)\n",
        "print(\"ID of original array - {}\".format(id(a_swapaxes)))\n",
        "print(\"Original array - \\n{}\".format(a_swapaxes))"
      ],
      "execution_count": 0,
      "outputs": [
        {
          "output_type": "stream",
          "text": [
            "ID of original array - 95564384\n",
            "Original array - \n",
            "[[[0 1]\n",
            "  [2 3]]\n",
            "\n",
            " [[4 5]\n",
            "  [6 7]]]\n",
            "ID of original array - 95564304\n",
            "Original array - \n",
            "[[[0 1]\n",
            "  [4 5]]\n",
            "\n",
            " [[2 3]\n",
            "  [6 7]]]\n"
          ],
          "name": "stdout"
        }
      ]
    },
    {
      "metadata": {
        "id": "-6BYdKOJl6va",
        "colab_type": "code",
        "colab": {}
      },
      "cell_type": "code",
      "source": [
        ""
      ],
      "execution_count": 0,
      "outputs": []
    }
  ]
}