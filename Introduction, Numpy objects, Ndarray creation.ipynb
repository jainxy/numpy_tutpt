{
 "cells": [
  {
   "cell_type": "markdown",
   "metadata": {},
   "source": [
    "## Introduction\n",
    "(https://www.tutorialspoint.com/numpy/numpy_introduction.htm)\n",
    "- Numpy means \"Numerical Python\" library\n",
    "- Has multi-dim array objects and APIs to process those MD objects\n",
    "- With it, we can perform arithmatic and logical operations on arrays\n",
    "- Other operations like indexing, slicing, broadcasting etc.\n",
    "- Native support with other sister libs for extending usecases like,\n",
    "    - Scipy for Image operations, and other scientific algos in python\n",
    "    - Matplotlib for plotting and graphing\n",
    "    - Panda for buiding dataframes and relared operations\n",
    "    - Scikit-learn for representing its tensors in ML usecases\n",
    "- It is widely used for Linear algebra as basic data unit is MDim array there\n",
    "- Scipy+Numpy+Matplotlib can effectively replcace Matlab,\n",
    "    - Numpy provide Matrix computation backbone\n",
    "    - Scipy provides algos\n",
    "    - Matplotlib provides rich plotting functionality\n",
    "    - Scipy stack : Numpy+scipy+Ipython+Matplotlib+sympy+core-python"
   ]
  },
  {
   "cell_type": "markdown",
   "metadata": {},
   "source": [
    "\n",
    "## Ndarray objects\n",
    "(https://www.tutorialspoint.com/numpy/numpy_ndarray_object.htm)\n",
    "- N-dimentional array, called \"_ndarray_\"\n",
    "- It defines collection of objects of same type, which can be accessed with indexing\n",
    "- Each element is an object of data-type object, called \"_dtype_\"\n",
    "- We can extract subset of elements via \"_slicing_\", to get python object of array-scalar type.\n",
    "- It contains of contigous 1-D memory, along with indexing scheme to map each item to a location in memory block.\n",
    "- By default, memory block has elements in row-major order"
   ]
  },
  {
   "cell_type": "markdown",
   "metadata": {},
   "source": [
    "### Creating Ndarray objects\n",
    "```python\n",
    "numpy.array(object, dtype = None, copy = True, order = None, subok = False, ndmin = 0)\n",
    "```"
   ]
  },
  {
   "cell_type": "code",
   "execution_count": 10,
   "metadata": {},
   "outputs": [
    {
     "name": "stdout",
     "output_type": "stream",
     "text": [
      "(1, 4)\n"
     ]
    }
   ],
   "source": [
    "import numpy as np\n",
    "a = np.array([1,2,3,4], ndmin=2)  # minimum dim as 2\n",
    "print(a.shape)"
   ]
  },
  {
   "cell_type": "code",
   "execution_count": 13,
   "metadata": {},
   "outputs": [
    {
     "name": "stdout",
     "output_type": "stream",
     "text": [
      "[[1.+0.j 2.+0.j 3.+0.j 4.+0.j]]\n",
      "Shape : (1, 4)\n"
     ]
    }
   ],
   "source": [
    "arr_com = np.array([1,2,3,4], ndmin = 2, dtype = complex) # Data-type of elements is coplex\n",
    "print(arr_com)\n",
    "print(\"Shape : {}\".format(arr_com.shape))"
   ]
  },
  {
   "cell_type": "markdown",
   "metadata": {},
   "source": [
    "## Numpy data-types (dtype)\n",
    "(https://www.tutorialspoint.com/numpy/numpy_data_types.htm)\n",
    "- Numpy supports more variety of numerical types than native python\n",
    "- These numerical types are instances of dtype objects, used as np.<_numerical-type_>\n",
    "- dtype objet provides interpretation of fixed block of memory of array"
   ]
  },
  {
   "cell_type": "markdown",
   "metadata": {},
   "source": [
    "### Creating dtype object\n",
    "```python\n",
    "numpy.dtype(object, align, copy)\n",
    "```"
   ]
  },
  {
   "cell_type": "code",
   "execution_count": 16,
   "metadata": {},
   "outputs": [],
   "source": [
    "import numpy as np"
   ]
  },
  {
   "cell_type": "code",
   "execution_count": 18,
   "metadata": {},
   "outputs": [
    {
     "name": "stdout",
     "output_type": "stream",
     "text": [
      "int32\n"
     ]
    }
   ],
   "source": [
    "# Using array-scalar type\n",
    "dt = np.dtype(np.int32)\n",
    "print(dt)"
   ]
  },
  {
   "cell_type": "code",
   "execution_count": 21,
   "metadata": {},
   "outputs": [
    {
     "name": "stdout",
     "output_type": "stream",
     "text": [
      "int16\n"
     ]
    }
   ],
   "source": [
    "dt = np.dtype('i2')\n",
    "print(dt)"
   ]
  },
  {
   "cell_type": "code",
   "execution_count": 23,
   "metadata": {},
   "outputs": [
    {
     "name": "stdout",
     "output_type": "stream",
     "text": [
      "int32\n",
      "int8\n"
     ]
    }
   ],
   "source": [
    "# Little and big-endian dtypes\n",
    "dt_le = np.dtype('<i4')\n",
    "dt_be = np.dtype('>i1')\n",
    "print(dt_le)\n",
    "print(dt_be)"
   ]
  },
  {
   "cell_type": "code",
   "execution_count": 28,
   "metadata": {},
   "outputs": [
    {
     "name": "stdout",
     "output_type": "stream",
     "text": [
      "[('num', 'i1')]\n",
      "[(10,) (20,) (30,)]\n"
     ]
    }
   ],
   "source": [
    "# use structured data-type, specifying field name and its data-type\n",
    "dt_str = np.dtype([('num',np.int8)]) # list of tuple\n",
    "print(dt_str)\n",
    "# apply this dtype object to ndarray object\n",
    "a = np.array([(10,),(20,),(30,)], dtype=dt_str)\n",
    "print(a)"
   ]
  },
  {
   "cell_type": "code",
   "execution_count": 30,
   "metadata": {},
   "outputs": [
    {
     "name": "stdout",
     "output_type": "stream",
     "text": [
      "[10 20 30]\n"
     ]
    }
   ],
   "source": [
    "# print age column\n",
    "print(a['num'])"
   ]
  },
  {
   "cell_type": "code",
   "execution_count": 32,
   "metadata": {},
   "outputs": [
    {
     "name": "stdout",
     "output_type": "stream",
     "text": [
      "[('name', 'S20'), ('age', 'i1'), ('marks', '<f4')]\n"
     ]
    }
   ],
   "source": [
    "# Structured data type '_student_'\n",
    "student = np.dtype([('name','S20'),('age','i1'),('marks','f4')])\n",
    "print(student)"
   ]
  },
  {
   "cell_type": "code",
   "execution_count": 36,
   "metadata": {},
   "outputs": [
    {
     "name": "stdout",
     "output_type": "stream",
     "text": [
      "[(b'Sonya', 21, 78.9) (b'Tanya', 22, 82.1)]\n",
      "[78.9 82.1]\n"
     ]
    }
   ],
   "source": [
    "# create ndarray with '_student_' dtype\n",
    "a = np.array([('Sonya',21,78.9),('Tanya',22,82.1)], dtype=student)\n",
    "print(a)\n",
    "print(a['marks'])  # returns '_marks_' column as 1-D ndarray object"
   ]
  },
  {
   "cell_type": "markdown",
   "metadata": {},
   "source": [
    "## Array attributes\n",
    "(https://www.tutorialspoint.com/numpy/numpy_array_attributes.htm)\n",
    "- To get/set attributes of different numpy objects like ndarray, dtype etc."
   ]
  },
  {
   "cell_type": "code",
   "execution_count": 40,
   "metadata": {},
   "outputs": [
    {
     "name": "stdout",
     "output_type": "stream",
     "text": [
      "(2, 3)\n"
     ]
    }
   ],
   "source": [
    "# ndarray.shape -> returns tuple having array dims. \n",
    "import numpy as np\n",
    "a = np.array([[1,2,3],[4,5,6]])\n",
    "print(a.shape)"
   ]
  },
  {
   "cell_type": "code",
   "execution_count": 42,
   "metadata": {
    "collapsed": true
   },
   "outputs": [
    {
     "name": "stdout",
     "output_type": "stream",
     "text": [
      "[[1 2]\n",
      " [3 4]\n",
      " [5 6]]\n"
     ]
    }
   ],
   "source": [
    "# Change shape of ndarray\n",
    "a.shape = (3,2)\n",
    "print(a)"
   ]
  },
  {
   "cell_type": "code",
   "execution_count": 43,
   "metadata": {
    "collapsed": true
   },
   "outputs": [
    {
     "name": "stdout",
     "output_type": "stream",
     "text": [
      "[[1 2]\n",
      " [3 4]\n",
      " [5 6]]\n"
     ]
    }
   ],
   "source": [
    "# reshape using function\n",
    "b = a.reshape((3,2))\n",
    "print(b)"
   ]
  },
  {
   "cell_type": "code",
   "execution_count": 50,
   "metadata": {
    "collapsed": true
   },
   "outputs": [
    {
     "name": "stdout",
     "output_type": "stream",
     "text": [
      "1\n",
      "3\n"
     ]
    }
   ],
   "source": [
    "# ndarray.ndim -> returns number of array dimentions i.e. length of shape tuple\n",
    "a = np.arange(0,24,2,'i1')\n",
    "print(a.ndim)\n",
    "b = a.reshape((2,3,2))\n",
    "print(b.ndim)"
   ]
  },
  {
   "cell_type": "code",
   "execution_count": 51,
   "metadata": {},
   "outputs": [
    {
     "name": "stdout",
     "output_type": "stream",
     "text": [
      "2\n"
     ]
    }
   ],
   "source": [
    "# ndarray.itemsize -> length of each element of array in bytes\n",
    "x = np.array([1,2,3,4,5], dtype='i2')\n",
    "print(x.itemsize)"
   ]
  },
  {
   "cell_type": "code",
   "execution_count": 56,
   "metadata": {},
   "outputs": [
    {
     "name": "stdout",
     "output_type": "stream",
     "text": [
      "[('name', 'S20'), ('age', 'i1'), ('marks', '<f4')]\n",
      "25\n"
     ]
    }
   ],
   "source": [
    "# Itemsize for structure dtype\n",
    "dt_str = np.dtype([('name','S20'),('age','i1'),('marks','f4')])\n",
    "print(dt_str)\n",
    "a = np.array([('S1',23,88.3),('S2',21,87.4)], dtype=dt_str)\n",
    "print(a.itemsize)"
   ]
  },
  {
   "cell_type": "code",
   "execution_count": 57,
   "metadata": {},
   "outputs": [
    {
     "name": "stdout",
     "output_type": "stream",
     "text": [
      "  C_CONTIGUOUS : True\n",
      "  F_CONTIGUOUS : True\n",
      "  OWNDATA : True\n",
      "  WRITEABLE : True\n",
      "  ALIGNED : True\n",
      "  WRITEBACKIFCOPY : False\n",
      "  UPDATEIFCOPY : False\n"
     ]
    }
   ],
   "source": [
    "# ndarray.flags -> list out attributes for ndarray objects\n",
    "x = np.array([1,2,3,4,5], dtype='i2')\n",
    "print(x.flags)"
   ]
  },
  {
   "cell_type": "markdown",
   "metadata": {},
   "source": [
    "## Array Creation\n",
    "(https://www.tutorialspoint.com/numpy/numpy_array_creation_routines.htm)\n",
    "- There are several ndarray object creation routines using different constructors.\n",
    "- Some functions to crate ndarray from scratch\n",
    "- Some from existing data object/containers"
   ]
  },
  {
   "cell_type": "code",
   "execution_count": 1,
   "metadata": {},
   "outputs": [
    {
     "name": "stdout",
     "output_type": "stream",
     "text": [
      "[[  2722 -10371]\n",
      " [  2046      0]\n",
      " [  2752 -10370]]\n"
     ]
    }
   ],
   "source": [
    "# numpy.empty -> uninitialized array of certain shape and dtype.\n",
    "# numpy.empty(shape, dtype = float, order = 'C')\n",
    "import numpy as np\n",
    "x = np.empty((3,2),dtype='i2')\n",
    "print(x) # will show some random values"
   ]
  },
  {
   "cell_type": "code",
   "execution_count": 60,
   "metadata": {
    "collapsed": true
   },
   "outputs": [
    {
     "name": "stdout",
     "output_type": "stream",
     "text": [
      "[[0 0 0]\n",
      " [0 0 0]]\n"
     ]
    }
   ],
   "source": [
    "# numpy.zeros -> new array of specified size, filled with zeros (0)\n",
    "# numpy.zeros(shape, dtype = float, order = 'C')\n",
    "x = np.zeros((2,3),dtype=np.uint16)\n",
    "print(x)"
   ]
  },
  {
   "cell_type": "code",
   "execution_count": 69,
   "metadata": {},
   "outputs": [
    {
     "name": "stdout",
     "output_type": "stream",
     "text": [
      "[[(1, 1.) (1, 1.)]\n",
      " [(1, 1.) (1, 1.)]]\n"
     ]
    }
   ],
   "source": [
    "# Zero ndarray with custom dtype\n",
    "x = np.zeros((2,2), dtype = [('x','i2'),('y','f8')])\n",
    "print(x)"
   ]
  },
  {
   "cell_type": "code",
   "execution_count": 71,
   "metadata": {},
   "outputs": [
    {
     "name": "stdout",
     "output_type": "stream",
     "text": [
      "[[(1, 1.) (1, 1.)]\n",
      " [(1, 1.) (1, 1.)]]\n"
     ]
    }
   ],
   "source": [
    "# numpy.ones -> new array of specified size, filled with ones (1)\n",
    "# numpy.ones(shape, dtype = float, order = 'C')\n",
    "x = np.ones((2,2), dtype = [('x','i2'),('y','f8')])\n",
    "print(x)"
   ]
  },
  {
   "cell_type": "code",
   "execution_count": 13,
   "metadata": {},
   "outputs": [
    {
     "name": "stdout",
     "output_type": "stream",
     "text": [
      "[1. 4. 6.]\n",
      "[(1, 4, 6) (2, 3)]\n",
      "object\n"
     ]
    }
   ],
   "source": [
    "# create nnumpy ndarry from existing python data objects like list, list of lists, tuple, list of tuple, tot etc\n",
    "x = (1,4,6)\n",
    "a = np.asarray(x,dtype=np.float)\n",
    "print(a)\n",
    "\n",
    "lot = [(1,4,6),(2,3)]\n",
    "nd_lot = np.asarray(lot)\n",
    "print(nd_lot)\n",
    "print(nd_lot.dtype)"
   ]
  },
  {
   "cell_type": "markdown",
   "metadata": {},
   "source": [
    "### numpy.frombuffer\n",
    "any object that exposes buffer interface can be used as pramater to construct ndarray object\n",
    "```python\n",
    "numpy.frombuffer(buffer, dtype = float, count = -1, offset = 0)\n",
    "```\n",
    "__default__ -1 means all data\n",
    "\n",
    "__offset__ The starting position to read from. Default is 0"
   ]
  },
  {
   "cell_type": "code",
   "execution_count": 25,
   "metadata": {},
   "outputs": [
    {
     "name": "stdout",
     "output_type": "stream",
     "text": [
      "nd_str - [b'H' b'e' b'l' b'l' b'o' b' ' b'N' b'u' b'm' b'p' b'y']\n"
     ]
    },
    {
     "name": "stderr",
     "output_type": "stream",
     "text": [
      "C:\\Users\\vishjain\\anaconda3\\lib\\site-packages\\ipykernel_launcher.py:3: DeprecationWarning: The binary mode of fromstring is deprecated, as it behaves surprisingly on unicode inputs. Use frombuffer instead\n",
      "  This is separate from the ipykernel package so we can avoid doing imports until\n"
     ]
    }
   ],
   "source": [
    "s = 'Hello Numpy'\n",
    "# nd_buf = np.frombuffer(s, dtype='S1')\n",
    "nd_str = np.fromstring(s, dtype='S1')\n",
    "# print(\"nd_buf - {0}\".format(nd_buf))\n",
    "print(\"nd_str - {0}\".format(nd_str))"
   ]
  },
  {
   "cell_type": "code",
   "execution_count": 27,
   "metadata": {},
   "outputs": [
    {
     "name": "stdout",
     "output_type": "stream",
     "text": [
      "[0. 1. 2. 3. 4.]\n"
     ]
    }
   ],
   "source": [
    "# using iterators\n",
    "# numpy.fromiter(iterable, dtype, count = -1)\n",
    "list = range(5) \n",
    "it = iter(list)  \n",
    "\n",
    "# use iterator to create ndarray \n",
    "nd_itr = np.fromiter(it, dtype = float) \n",
    "print(nd_itr)"
   ]
  },
  {
   "cell_type": "markdown",
   "metadata": {},
   "source": [
    "## Ndarray from numerical ranges\n",
    "(https://www.tutorialspoint.com/numpy/numpy_array_from_numerical_ranges.htm)\n",
    "\n",
    "1. __numpy.arange__ ->\n",
    "ndarray object with evenly spaces values within given range.\n",
    "```python\n",
    "np.arange(start=0,stop,step=1,dtype)\n",
    "```\n",
    "__dtype__ if not given, is taken as that of input\n",
    "\n",
    "\n",
    "2. __numpy.linspace__ ->\n",
    "ndarray object where number of evenly spaced values to be generated is provided\n",
    "```python\n",
    "numpy.linspace(start, stop, num=50, endpoint=True, retstep=False, dtype)\n",
    "```\n",
    "\n",
    "\n",
    "3. __numpy.logspace__ ->\n",
    "ndarray object where number of evenly spaced values, on log scale, to be generated is provided\n",
    "```python\n",
    "numpy.logspace(start, stop, num=50, endpoint=True, base=10, dtype)\n",
    "```"
   ]
  },
  {
   "cell_type": "code",
   "execution_count": 32,
   "metadata": {},
   "outputs": [
    {
     "name": "stdout",
     "output_type": "stream",
     "text": [
      "[ 0.  2.  4.  6.  8. 10.]\n"
     ]
    }
   ],
   "source": [
    "import numpy as np\n",
    "nd_arange = np.arange(11, step=2, dtype='f2')\n",
    "print(nd_arange)"
   ]
  },
  {
   "cell_type": "code",
   "execution_count": 38,
   "metadata": {},
   "outputs": [
    {
     "name": "stdout",
     "output_type": "stream",
     "text": [
      "[10.  12.2 14.4 16.6 18.8 21. ]\n"
     ]
    }
   ],
   "source": [
    "nd_linspace = np.linspace(10,21,6,dtype='f4')\n",
    "print(nd_linspace)"
   ]
  },
  {
   "cell_type": "code",
   "execution_count": 39,
   "metadata": {},
   "outputs": [
    {
     "name": "stdout",
     "output_type": "stream",
     "text": [
      "(array([10. , 12.2, 14.4, 16.6, 18.8, 21. ], dtype=float32), 2.2)\n"
     ]
    }
   ],
   "source": [
    "nd_linspace = np.linspace(10,21,6,dtype='f4',retstep=True)\n",
    "print(nd_linspace)"
   ]
  },
  {
   "cell_type": "code",
   "execution_count": 42,
   "metadata": {},
   "outputs": [
    {
     "name": "stdout",
     "output_type": "stream",
     "text": [
      "[1.e+01 1.e+02 1.e+03 1.e+04 1.e+05 1.e+06 1.e+07 1.e+08 1.e+09 1.e+10]\n"
     ]
    }
   ],
   "source": [
    "nd_logspace = np.logspace(1,10,10,2)\n",
    "print(nd_logspace)"
   ]
  },
  {
   "cell_type": "markdown",
   "metadata": {},
   "source": [
    "# See next notebook for manipulation and processing of numpy ndarrays"
   ]
  }
 ],
 "metadata": {
  "kernelspec": {
   "display_name": "Python 3",
   "language": "python",
   "name": "python3"
  },
  "language_info": {
   "codemirror_mode": {
    "name": "ipython",
    "version": 3
   },
   "file_extension": ".py",
   "mimetype": "text/x-python",
   "name": "python",
   "nbconvert_exporter": "python",
   "pygments_lexer": "ipython3",
   "version": "3.7.0"
  }
 },
 "nbformat": 4,
 "nbformat_minor": 2
}
